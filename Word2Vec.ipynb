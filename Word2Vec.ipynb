{
  "nbformat": 4,
  "nbformat_minor": 0,
  "metadata": {
    "colab": {
      "provenance": []
    },
    "kernelspec": {
      "name": "python3",
      "display_name": "Python 3"
    },
    "language_info": {
      "name": "python"
    }
  },
  "cells": [
    {
      "cell_type": "code",
      "execution_count": 4,
      "metadata": {
        "colab": {
          "base_uri": "https://localhost:8080/"
        },
        "id": "kramRlRO6ph-",
        "outputId": "959567c3-f527-4f26-b987-a8629fcf262a"
      },
      "outputs": [
        {
          "output_type": "stream",
          "name": "stderr",
          "text": [
            "[nltk_data] Downloading package punkt to /root/nltk_data...\n",
            "[nltk_data]   Package punkt is already up-to-date!\n",
            "[nltk_data] Downloading package stopwords to /root/nltk_data...\n",
            "[nltk_data]   Package stopwords is already up-to-date!\n"
          ]
        }
      ],
      "source": [
        "import nltk\n",
        "\n",
        "from gensim.models import Word2Vec\n",
        "nltk.download('punkt')\n",
        "nltk.download('stopwords')\n",
        "from nltk.corpus import stopwords\n",
        "\n",
        "import re\n",
        "\n",
        "paragraph = \"\"\"I have three visions for India. In 3000 years of our history, people from all over\n",
        "               the world have come and invaded us, captured our lands, conquered our minds.\n",
        "               From Alexander onwards, the Greeks, the Turks, the Moguls, the Portuguese, the British,\n",
        "               the French, the Dutch, all of them came and looted us, took over what was ours.\n",
        "               Yet we have not done this to any other nation. We have not conquered anyone.\n",
        "               We have not grabbed their land, their culture,\n",
        "               their history and tried to enforce our way of life on them.\n",
        "               Why? Because we respect the freedom of others.That is why my\n",
        "               first vision is that of freedom. I believe that India got its first vision of\n",
        "               this in 1857, when we started the War of Independence. It is this freedom that\n",
        "               we must protect and nurture and build on. If we are not free, no one will respect us.\n",
        "               My second vision for India’s development. For fifty years we have been a developing nation.\n",
        "               It is time we see ourselves as a developed nation. We are among the top 5 nations of the world\n",
        "               in terms of GDP. We have a 10 percent growth rate in most areas. Our poverty levels are falling.\n",
        "               Our achievements are being globally recognised today. Yet we lack the self-confidence to\n",
        "               see ourselves as a developed nation, self-reliant and self-assured. Isn’t this incorrect?\n",
        "               I have a third vision. India must stand up to the world. Because I believe that unless India\n",
        "               stands up to the world, no one will respect us. Only strength respects strength. We must be\n",
        "               strong not only as a military power but also as an economic power. Both must go hand-in-hand.\n",
        "               My good fortune was to have worked with three great minds. Dr. Vikram Sarabhai of the Dept. of\n",
        "               space, Professor Satish Dhawan, who succeeded him and Dr. Brahm Prakash, father of nuclear material.\n",
        "               I was lucky to have worked with all three of them closely and consider this the great opportunity of my life.\n",
        "               I see four milestones in my career\"\"\"\n",
        "\n",
        "\n",
        "\n",
        "# Preprocessing the data\n",
        "text = re.sub(r'\\[[0-9]*\\]',' ',paragraph)\n",
        "text = re.sub(r'\\s+',' ',text)\n",
        "text = text.lower()\n",
        "text = re.sub(r'\\d',' ',text)\n",
        "text = re.sub(r'\\s+',' ',text)\n",
        "\n",
        "# Preparing the dataset\n",
        "sentences = nltk.sent_tokenize(text)\n",
        "\n",
        "sentences = [nltk.word_tokenize(sentence) for sentence in sentences]\n",
        "\n",
        "for i in range(len(sentences)):\n",
        "    sentences[i] = [word for word in sentences[i] if word not in stopwords.words('english')] # removing stopwords\n",
        "\n",
        "\n",
        "# Training the Word2Vec model\n",
        "model = Word2Vec(sentences, min_count=1) # if word is pesent less than 1 then I will skip that word.\n",
        "\n",
        "\n",
        "# Accessing the vocabulary using key_to_index\n",
        "words = model.wv.key_to_index\n",
        "\n",
        "# Finding Word Vectors\n",
        "vector = model.wv['war'] # vector for war word\n",
        "\n",
        "# Most similar words\n",
        "similar = model.wv.most_similar('vikram') # similar words w.r.t. vikram word"
      ]
    },
    {
      "cell_type": "code",
      "source": [
        "similar"
      ],
      "metadata": {
        "colab": {
          "base_uri": "https://localhost:8080/"
        },
        "id": "0Qjb2XTt67rR",
        "outputId": "a2400406-faa9-44ed-b5c5-b46beb6159e0"
      },
      "execution_count": 5,
      "outputs": [
        {
          "output_type": "execute_result",
          "data": {
            "text/plain": [
              "[('visions', 0.1814650446176529),\n",
              " ('growth', 0.1663494110107422),\n",
              " ('one', 0.1643451601266861),\n",
              " ('took', 0.1643296480178833),\n",
              " (',', 0.15887506306171417),\n",
              " ('fifty', 0.1472669243812561),\n",
              " ('developing', 0.14714020490646362),\n",
              " ('worked', 0.13810549676418304),\n",
              " ('development', 0.13769842684268951),\n",
              " ('time', 0.13293513655662537)]"
            ]
          },
          "metadata": {},
          "execution_count": 5
        }
      ]
    },
    {
      "cell_type": "code",
      "source": [
        "vector"
      ],
      "metadata": {
        "colab": {
          "base_uri": "https://localhost:8080/"
        },
        "id": "Nf-Dhstw74T7",
        "outputId": "c081e7bd-6327-4b44-ce93-35dbc19d5d2e"
      },
      "execution_count": 6,
      "outputs": [
        {
          "output_type": "execute_result",
          "data": {
            "text/plain": [
              "array([-0.00219905, -0.00970885,  0.00929075,  0.00203636, -0.00116388,\n",
              "       -0.00551955, -0.0085126 , -0.00989383,  0.00894091, -0.00250522,\n",
              "        0.00459427, -0.00452481,  0.00995189,  0.00366171,  0.00103129,\n",
              "       -0.00403834,  0.00122027, -0.00265451,  0.00735284,  0.00447542,\n",
              "        0.00099955,  0.0034782 ,  0.00372712, -0.00680036,  0.00893243,\n",
              "        0.00173499, -0.00579935,  0.00866838, -0.00129286,  0.00818304,\n",
              "       -0.0014927 ,  0.00698649,  0.00273452, -0.00436226, -0.00374683,\n",
              "        0.00919046,  0.00159645, -0.00599784,  0.00034776, -0.00195135,\n",
              "        0.00159242, -0.00771525,  0.00738298,  0.00131083,  0.00787099,\n",
              "        0.00445568, -0.00439675,  0.00376054, -0.0006357 , -0.00984484,\n",
              "        0.00825004,  0.00964326,  0.00965426, -0.00379659, -0.00844202,\n",
              "        0.00483581, -0.00765107,  0.00853567,  0.00275977,  0.00560496,\n",
              "        0.00611362,  0.00046455, -0.00209463,  0.000778  ,  0.00983559,\n",
              "       -0.00711718, -0.00155743, -0.00235984,  0.00487084,  0.00645515,\n",
              "       -0.0041403 ,  0.00361816, -0.00447258,  0.00326611,  0.0081738 ,\n",
              "        0.00361967, -0.0045711 , -0.00301938,  0.00787179,  0.00959686,\n",
              "        0.00580789, -0.00326881, -0.00183876, -0.00624998, -0.00429521,\n",
              "        0.00336554, -0.00648911, -0.00661903,  0.00811393,  0.0095074 ,\n",
              "        0.00814451,  0.00150699, -0.00880124, -0.00759764,  0.0015789 ,\n",
              "       -0.00952675, -0.00741688,  0.00203283, -0.00292885, -0.00916266],\n",
              "      dtype=float32)"
            ]
          },
          "metadata": {},
          "execution_count": 6
        }
      ]
    },
    {
      "cell_type": "code",
      "source": [
        "words"
      ],
      "metadata": {
        "colab": {
          "base_uri": "https://localhost:8080/"
        },
        "id": "RPnCudq47842",
        "outputId": "b7771eb9-6759-4893-d545-252c95f8036a"
      },
      "execution_count": 7,
      "outputs": [
        {
          "output_type": "execute_result",
          "data": {
            "text/plain": [
              "{'.': 0,\n",
              " ',': 1,\n",
              " 'india': 2,\n",
              " 'vision': 3,\n",
              " 'must': 4,\n",
              " 'nation': 5,\n",
              " 'world': 6,\n",
              " 'us': 7,\n",
              " 'three': 8,\n",
              " 'freedom': 9,\n",
              " 'respect': 10,\n",
              " 'see': 11,\n",
              " 'first': 12,\n",
              " 'power': 13,\n",
              " 'yet': 14,\n",
              " '’': 15,\n",
              " 'strength': 16,\n",
              " 'worked': 17,\n",
              " '?': 18,\n",
              " 'life': 19,\n",
              " 'believe': 20,\n",
              " 'dr.': 21,\n",
              " 'great': 22,\n",
              " 'minds': 23,\n",
              " 'one': 24,\n",
              " 'years': 25,\n",
              " 'history': 26,\n",
              " 'developed': 27,\n",
              " 'conquered': 28,\n",
              " 'protect': 29,\n",
              " 'others.that': 30,\n",
              " 'war': 31,\n",
              " 'nurture': 32,\n",
              " 'independence': 33,\n",
              " 'build': 34,\n",
              " 'free': 35,\n",
              " 'tried': 36,\n",
              " 'got': 37,\n",
              " 'started': 38,\n",
              " 'way': 39,\n",
              " 'enforce': 40,\n",
              " 'took': 41,\n",
              " 'culture': 42,\n",
              " 'turks': 43,\n",
              " 'visions': 44,\n",
              " 'people': 45,\n",
              " 'come': 46,\n",
              " 'invaded': 47,\n",
              " 'captured': 48,\n",
              " 'lands': 49,\n",
              " 'alexander': 50,\n",
              " 'onwards': 51,\n",
              " 'greeks': 52,\n",
              " 'moguls': 53,\n",
              " 'land': 54,\n",
              " 'portuguese': 55,\n",
              " 'british': 56,\n",
              " 'french': 57,\n",
              " 'dutch': 58,\n",
              " 'came': 59,\n",
              " 'looted': 60,\n",
              " 'done': 61,\n",
              " 'anyone': 62,\n",
              " 'grabbed': 63,\n",
              " 'second': 64,\n",
              " 'career': 65,\n",
              " 'development': 66,\n",
              " 'respects': 67,\n",
              " 'military': 68,\n",
              " 'also': 69,\n",
              " 'economic': 70,\n",
              " 'go': 71,\n",
              " 'hand-in-hand': 72,\n",
              " 'good': 73,\n",
              " 'fortune': 74,\n",
              " 'vikram': 75,\n",
              " 'sarabhai': 76,\n",
              " 'dept': 77,\n",
              " 'space': 78,\n",
              " 'professor': 79,\n",
              " 'satish': 80,\n",
              " 'dhawan': 81,\n",
              " 'succeeded': 82,\n",
              " 'brahm': 83,\n",
              " 'prakash': 84,\n",
              " 'father': 85,\n",
              " 'nuclear': 86,\n",
              " 'material': 87,\n",
              " 'lucky': 88,\n",
              " 'closely': 89,\n",
              " 'consider': 90,\n",
              " 'opportunity': 91,\n",
              " 'four': 92,\n",
              " 'strong': 93,\n",
              " 'stands': 94,\n",
              " 'fifty': 95,\n",
              " 'unless': 96,\n",
              " 'developing': 97,\n",
              " 'milestones': 98,\n",
              " 'among': 99,\n",
              " 'top': 100,\n",
              " 'nations': 101,\n",
              " 'terms': 102,\n",
              " 'gdp': 103,\n",
              " 'percent': 104,\n",
              " 'growth': 105,\n",
              " 'rate': 106,\n",
              " 'areas': 107,\n",
              " 'poverty': 108,\n",
              " 'levels': 109,\n",
              " 'falling': 110,\n",
              " 'achievements': 111,\n",
              " 'globally': 112,\n",
              " 'recognised': 113,\n",
              " 'today': 114,\n",
              " 'lack': 115,\n",
              " 'self-confidence': 116,\n",
              " 'self-reliant': 117,\n",
              " 'self-assured': 118,\n",
              " 'incorrect': 119,\n",
              " 'third': 120,\n",
              " 'stand': 121,\n",
              " 'time': 122}"
            ]
          },
          "metadata": {},
          "execution_count": 7
        }
      ]
    },
    {
      "cell_type": "code",
      "source": [
        "model"
      ],
      "metadata": {
        "colab": {
          "base_uri": "https://localhost:8080/"
        },
        "id": "Hz5C7zyV8BYa",
        "outputId": "f07a1535-047d-4f71-c60b-9c345873b82c"
      },
      "execution_count": 8,
      "outputs": [
        {
          "output_type": "execute_result",
          "data": {
            "text/plain": [
              "<gensim.models.word2vec.Word2Vec at 0x7b9b71a2b3d0>"
            ]
          },
          "metadata": {},
          "execution_count": 8
        }
      ]
    },
    {
      "cell_type": "code",
      "source": [],
      "metadata": {
        "id": "QD1BvCIV-p5O"
      },
      "execution_count": null,
      "outputs": []
    }
  ]
}